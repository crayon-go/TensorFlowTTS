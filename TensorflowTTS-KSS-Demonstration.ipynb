{
 "cells": [
  {
   "cell_type": "markdown",
   "metadata": {},
   "source": [
    "# TensorflowTTS real time E2E-TTS demonstration\n",
    "\n",
    "This notebook provides a demonstration of the realtime E2E-TTS using TensorflowTTS for Korea (Using KSS dataset)\n",
    "\n",
    "- Github: https://github.com/TensorSpeech/TensorflowTTS\n",
    "- Colab for Eng: https://colab.research.google.com/drive/1akxtrLZHKuMiQup00tzO2olCaN-y3KiD?usp=sharing"
   ]
  },
  {
   "cell_type": "code",
   "execution_count": 1,
   "metadata": {},
   "outputs": [],
   "source": [
    "import os\n",
    "import sys"
   ]
  },
  {
   "cell_type": "markdown",
   "metadata": {},
   "source": [
    "## Load Model"
   ]
  },
  {
   "cell_type": "code",
   "execution_count": 2,
   "metadata": {},
   "outputs": [],
   "source": [
    "import tensorflow as tf\n",
    "\n",
    "import yaml\n",
    "import numpy as np\n",
    "import matplotlib.pyplot as plt\n",
    "\n",
    "import IPython.display as ipd\n",
    "\n",
    "from tensorflow_tts.inference import AutoConfig\n",
    "from tensorflow_tts.inference import TFAutoModel\n",
    "from tensorflow_tts.inference import AutoProcessor"
   ]
  },
  {
   "cell_type": "markdown",
   "metadata": {},
   "source": [
    "### (a) Tacotron 2"
   ]
  },
  {
   "cell_type": "code",
   "execution_count": 3,
   "metadata": {},
   "outputs": [],
   "source": [
    "tacotron2 = TFAutoModel.from_pretrained(\"tensorspeech/tts-tacotron2-kss-ko\", name=\"tacotron2\")"
   ]
  },
  {
   "cell_type": "markdown",
   "metadata": {},
   "source": [
    "### (b) FastSpeech2"
   ]
  },
  {
   "cell_type": "code",
   "execution_count": 4,
   "metadata": {},
   "outputs": [],
   "source": [
    "fastspeech2 = TFAutoModel.from_pretrained(\"tensorspeech/tts-fastspeech2-kss-ko\", name=\"fastspeech2\")"
   ]
  },
  {
   "cell_type": "markdown",
   "metadata": {},
   "source": [
    "### (c) Multi-band MelGAN"
   ]
  },
  {
   "cell_type": "code",
   "execution_count": 5,
   "metadata": {},
   "outputs": [],
   "source": [
    "mb_melgan = TFAutoModel.from_pretrained(\"tensorspeech/tts-mb_melgan-kss-ko\", name=\"mb_melgan\")"
   ]
  },
  {
   "cell_type": "markdown",
   "metadata": {},
   "source": [
    "## Inference\n",
    "- The first time model run inference will very slow cause by @tf.function."
   ]
  },
  {
   "cell_type": "code",
   "execution_count": 6,
   "metadata": {},
   "outputs": [],
   "source": [
    "processor = AutoProcessor.from_pretrained(\"tensorspeech/tts-tacotron2-kss-ko\")"
   ]
  },
  {
   "cell_type": "code",
   "execution_count": 7,
   "metadata": {},
   "outputs": [],
   "source": [
    "def do_synthesis(input_text, text2mel_model, vocoder_model, text2mel_name, vocoder_name):\n",
    "    input_ids = processor.text_to_sequence(input_text)\n",
    "\n",
    "    # text2mel part\n",
    "    if text2mel_name == \"TACOTRON\":\n",
    "        _, mel_outputs, stop_token_prediction, alignment_history = text2mel_model.inference(\n",
    "            tf.expand_dims(tf.convert_to_tensor(input_ids, dtype=tf.int32), 0),\n",
    "            tf.convert_to_tensor([len(input_ids)], tf.int32),\n",
    "            tf.convert_to_tensor([0], dtype=tf.int32)\n",
    "        )\n",
    "    elif text2mel_name == \"FASTSPEECH2\":\n",
    "        mel_before, mel_outputs, duration_outputs, _, _ = text2mel_model.inference(\n",
    "            tf.expand_dims(tf.convert_to_tensor(input_ids, dtype=tf.int32), 0),\n",
    "            speaker_ids=tf.convert_to_tensor([0], dtype=tf.int32),\n",
    "            speed_ratios=tf.convert_to_tensor([1.0], dtype=tf.float32),\n",
    "            f0_ratios=tf.convert_to_tensor([1.0], dtype=tf.float32),\n",
    "            energy_ratios=tf.convert_to_tensor([1.0], dtype=tf.float32),\n",
    "        )\n",
    "    else:\n",
    "        raise ValueError(\"Only TACOTRON, FASTSPEECH2 are supported on text2mel_name\")\n",
    "\n",
    "    # vocoder part\n",
    "    if vocoder_name == \"MB-MELGAN\":\n",
    "        audio = vocoder_model.inference(mel_outputs)[0, :, 0]\n",
    "    else:\n",
    "        raise ValueError(\"Only MB_MELGAN are supported on vocoder_name\")\n",
    "  \n",
    "    if text2mel_name == \"TACOTRON\":\n",
    "        return mel_outputs.numpy(), alignment_history.numpy(), audio.numpy()\n",
    "    else:\n",
    "        return mel_outputs.numpy(), audio.numpy()\n",
    "\n",
    "def visualize_attention(alignment_history):\n",
    "    import matplotlib.pyplot as plt\n",
    "\n",
    "    fig = plt.figure(figsize=(8, 6))\n",
    "    ax = fig.add_subplot(111)\n",
    "    ax.set_title(f'Alignment steps')\n",
    "    im = ax.imshow(\n",
    "        alignment_history,\n",
    "        aspect='auto',\n",
    "        origin='lower',\n",
    "        interpolation='none')\n",
    "    fig.colorbar(im, ax=ax)\n",
    "    xlabel = 'Decoder timestep'\n",
    "    plt.xlabel(xlabel)\n",
    "    plt.ylabel('Encoder timestep')\n",
    "    plt.tight_layout()\n",
    "    plt.show()\n",
    "    plt.close()\n",
    "\n",
    "def visualize_mel_spectrogram(mels):\n",
    "    mels = tf.reshape(mels, [-1, 80]).numpy()\n",
    "    fig = plt.figure(figsize=(10, 8))\n",
    "    ax1 = fig.add_subplot(311)\n",
    "    ax1.set_title(f'Predicted Mel-after-Spectrogram')\n",
    "    im = ax1.imshow(np.rot90(mels), aspect='auto', interpolation='none')\n",
    "    fig.colorbar(mappable=im, shrink=0.65, orientation='horizontal', ax=ax1)\n",
    "    plt.show()\n",
    "    plt.close()"
   ]
  },
  {
   "cell_type": "code",
   "execution_count": 36,
   "metadata": {},
   "outputs": [],
   "source": [
    "# input_text = \"현재 사용 가능한 컴퓨팅 단위가 없습니다. 무료 제공 리소스는 사용이 보장되지 않습니다.\"\n",
    "# input_text = \"어이, 고광렬이. 너는 첫 판부터 장난질이냐? 니 손바닥에 화투 한 장 붙어 있다는 거에 내 돈 모두하고 내 손 하나를 걸겄다. 넌 무엇을 걸래~?\"\n",
    "# input_text = \"안녕하세요. 지금부터 타운홀을 시작하겠습니다. 진행순서는 다음과 같습니다.\""
   ]
  },
  {
   "cell_type": "code",
   "execution_count": 37,
   "metadata": {},
   "outputs": [],
   "source": [
    "# setup window for tacotron2 if you want to try\n",
    "tacotron2.setup_window(win_front=10, win_back=10)"
   ]
  },
  {
   "cell_type": "markdown",
   "metadata": {},
   "source": [
    "### (a) Tacotron2 + MB-MELGAN"
   ]
  },
  {
   "cell_type": "code",
   "execution_count": 1,
   "metadata": {},
   "outputs": [],
   "source": [
    "mels, alignment_history, audios = do_synthesis(input_text, tacotron2, mb_melgan, \"TACOTRON\", \"MB-MELGAN\")\n",
    "visualize_attention(alignment_history[0])\n",
    "visualize_mel_spectrogram(mels[0])\n",
    "ipd.Audio(audios, rate=22050)"
   ]
  },
  {
   "cell_type": "markdown",
   "metadata": {},
   "source": [
    "### (b) FastSpeech2 + MB-MELGAN"
   ]
  },
  {
   "cell_type": "code",
   "execution_count": 2,
   "metadata": {},
   "outputs": [],
   "source": [
    "mels, audios = do_synthesis(input_text, fastspeech2, mb_melgan, \"FASTSPEECH2\", \"MB-MELGAN\")\n",
    "visualize_mel_spectrogram(mels[0])\n",
    "ipd.Audio(audios, rate=22050)"
   ]
  },
  {
   "cell_type": "code",
   "execution_count": null,
   "metadata": {},
   "outputs": [],
   "source": []
  },
  {
   "cell_type": "code",
   "execution_count": null,
   "metadata": {},
   "outputs": [],
   "source": []
  }
 ],
 "metadata": {
  "kernelspec": {
   "display_name": "voice37",
   "language": "python",
   "name": "voice37"
  },
  "language_info": {
   "codemirror_mode": {
    "name": "ipython",
    "version": 3
   },
   "file_extension": ".py",
   "mimetype": "text/x-python",
   "name": "python",
   "nbconvert_exporter": "python",
   "pygments_lexer": "ipython3",
   "version": "3.7.16"
  }
 },
 "nbformat": 4,
 "nbformat_minor": 4
}
